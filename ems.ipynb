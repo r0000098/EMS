{
 "cells": [
  {
   "cell_type": "code",
   "execution_count": 84,
   "metadata": {},
   "outputs": [],
   "source": [
    "import mysql.connector\n",
    "import pandas as pd\n",
    "import warnings\n",
    "warnings.filterwarnings('ignore')"
   ]
  },
  {
   "cell_type": "code",
   "execution_count": 85,
   "metadata": {},
   "outputs": [],
   "source": [
    "connection = mysql.connector.connect(\n",
    "    user='root',\n",
    "    password='12345',  \n",
    "    host='localhost',\n",
    "    database='EMS_db'\n",
    ")\n",
    "cursor = connection.cursor()"
   ]
  },
  {
   "cell_type": "code",
   "execution_count": 86,
   "metadata": {},
   "outputs": [
    {
     "name": "stdout",
     "output_type": "stream",
     "text": [
      "Employee Data:\n",
      "   EmployeeID      Name   Department   Salary    JoinDate\n",
      "0           2      BABU      Finance  45000.0  2021-12-15\n",
      "1           3     Charu           IT  50000.0  2023-03-20\n",
      "2           4      Diya    Marketing  42000.0  2020-11-01\n",
      "3           5     Eshan           IT  55000.0  2019-09-05\n",
      "4           6  John Doe  Engineering  75000.0  2023-02-20\n"
     ]
    }
   ],
   "source": [
    "cursor.execute('SELECT * FROM Employees_db')\n",
    "employee_data = pd.DataFrame(cursor.fetchall(), columns=[desc[0] for desc in cursor.description])\n",
    "print(\"Employee Data:\")\n",
    "print(employee_data.head())"
   ]
  },
  {
   "cell_type": "code",
   "execution_count": 87,
   "metadata": {},
   "outputs": [
    {
     "name": "stdout",
     "output_type": "stream",
     "text": [
      "Employee added successfully!\n"
     ]
    }
   ],
   "source": [
    "\n",
    "cursor.execute(\"\"\"\n",
    "    INSERT INTO Employees_db (EmployeeID, name, Department, salary, joindate)\n",
    "    VALUES (10, 'Rohan roy', 'sales', 50000, '2024-12-20')\n",
    "\"\"\")\n",
    "connection.commit()\n",
    "print(\"Employee added successfully!\")\n",
    "\n",
    "    "
   ]
  },
  {
   "cell_type": "code",
   "execution_count": 88,
   "metadata": {},
   "outputs": [
    {
     "name": "stdout",
     "output_type": "stream",
     "text": [
      "\n",
      "Employee Data:\n",
      "   EmployeeID       Name   Department   Salary    JoinDate\n",
      "0           2       BABU      Finance  45000.0  2021-12-15\n",
      "1           3      Charu           IT  50000.0  2023-03-20\n",
      "2           4       Diya    Marketing  42000.0  2020-11-01\n",
      "3           5      Eshan           IT  55000.0  2019-09-05\n",
      "4           6   John Doe  Engineering  75000.0  2023-02-20\n",
      "5           7    mohn De  Engineering  80000.0  2023-02-20\n",
      "6           8   mohn roy       Edtech  70000.0  2023-02-20\n",
      "7           9   sohn roy      Fintech  50000.0  2024-02-20\n",
      "8          10  Rohan roy        sales  50000.0  2024-12-20\n"
     ]
    }
   ],
   "source": [
    "def view_employees():\n",
    "    cursor.execute('SELECT * FROM Employees_db')\n",
    "    employee_data = pd.DataFrame(cursor.fetchall(), columns=[desc[0] for desc in cursor.description])\n",
    "    print(\"\\nEmployee Data:\")\n",
    "    print(employee_data)\n",
    "view_employees()"
   ]
  },
  {
   "cell_type": "code",
   "execution_count": 89,
   "metadata": {},
   "outputs": [
    {
     "name": "stdout",
     "output_type": "stream",
     "text": [
      "\n",
      "Employee salary updated successfully.\n",
      "   EmployeeID       Name   Department   Salary    JoinDate\n",
      "0           2       BABU      Finance  45000.0  2021-12-15\n",
      "1           3      Charu           IT  50000.0  2023-03-20\n",
      "2           4       Diya    Marketing  42000.0  2020-11-01\n",
      "3           5      Eshan           IT  55000.0  2019-09-05\n",
      "4           6   John Doe  Engineering  75000.0  2023-02-20\n",
      "5           7    mohn De  Engineering  80000.0  2023-02-20\n",
      "6           8   mohn roy       Edtech  70000.0  2023-02-20\n",
      "7           9   sohn roy      Fintech  50000.0  2024-02-20\n",
      "8          10  Rohan roy        sales  50000.0  2024-12-20\n"
     ]
    }
   ],
   "source": [
    "\n",
    "def update_employee_salary():\n",
    "    emp_id =7\n",
    "    new_salary = 80000\n",
    "    \n",
    "    cursor.execute(\"UPDATE Employees_db SET Salary = %s WHERE EmployeeID = %s\", (new_salary, emp_id))\n",
    "    connection.commit()\n",
    "    print(\"\\nEmployee salary updated successfully.\")\n",
    "    cursor.execute(\"SELECT * FROM Employees_db\")\n",
    "    \n",
    "    employee_data = pd.DataFrame(cursor.fetchall(), columns=[desc[0] for desc in cursor.description])\n",
    "    print(employee_data)\n",
    "    \n",
    "    \n",
    "\n",
    "\n",
    "\n",
    "update_employee_salary()"
   ]
  },
  {
   "cell_type": "code",
   "execution_count": 95,
   "metadata": {},
   "outputs": [
    {
     "name": "stdout",
     "output_type": "stream",
     "text": [
      "\n",
      "Employee salary DELETED successfully.\n",
      "\n",
      "Updated Employee Data:\n",
      "   EmployeeID       Name   Department   Salary    JoinDate\n",
      "0           2       BABU      Finance  45000.0  2021-12-15\n",
      "1           3      Charu           IT  50000.0  2023-03-20\n",
      "2           4       Diya    Marketing  42000.0  2020-11-01\n",
      "3           5      Eshan           IT  55000.0  2019-09-05\n",
      "4           6   John Doe  Engineering  75000.0  2023-02-20\n",
      "5           7    mohn De  Engineering  80000.0  2023-02-20\n",
      "6           8   mohn roy       Edtech  70000.0  2023-02-20\n",
      "7           9   sohn roy      Fintech  50000.0  2024-02-20\n",
      "8          10  Rohan roy        sales  50000.0  2024-12-20\n",
      "   EmployeeID       Name   Department   Salary    JoinDate\n",
      "0           2       BABU      Finance  45000.0  2021-12-15\n",
      "1           3      Charu           IT  50000.0  2023-03-20\n",
      "2           4       Diya    Marketing  42000.0  2020-11-01\n",
      "3           5      Eshan           IT  55000.0  2019-09-05\n",
      "4           6   John Doe  Engineering  75000.0  2023-02-20\n",
      "5           7    mohn De  Engineering  80000.0  2023-02-20\n",
      "6           8   mohn roy       Edtech  70000.0  2023-02-20\n",
      "7           9   sohn roy      Fintech  50000.0  2024-02-20\n",
      "8          10  Rohan roy        sales  50000.0  2024-12-20\n"
     ]
    }
   ],
   "source": [
    "def delete_employee():\n",
    "\n",
    "    emp_id = 1\n",
    "    cursor.execute(\"SELECT * FROM Employees_db\")\n",
    "    cursor.fetchall()\n",
    "    \n",
    "    cursor.execute(\"DELETE FROM employees_db WHERE EmployeeID = %s\", (emp_id,))\n",
    "    connection.commit()\n",
    "    # print(f\"Employee with ID {emp_id} deleted successfully!\")\n",
    "    print(\"\\nEmployee salary DELETED successfully.\")\n",
    "    cursor.execute(\"SELECT * FROM Employees_db\")\n",
    "    updated_data = cursor.fetchall()\n",
    "    \n",
    "\n",
    "    employee_data = pd.DataFrame(updated_data, columns=[desc[0] for desc in cursor.description])\n",
    "    print(\"\\nUpdated Employee Data:\")\n",
    "    print(employee_data)\n",
    "    print(employee_data)\n",
    "\n",
    "\n",
    "delete_employee()"
   ]
  },
  {
   "cell_type": "code",
   "execution_count": 107,
   "metadata": {},
   "outputs": [],
   "source": []
  },
  {
   "cell_type": "code",
   "execution_count": null,
   "metadata": {},
   "outputs": [],
   "source": []
  }
 ],
 "metadata": {
  "kernelspec": {
   "display_name": "Python 3",
   "language": "python",
   "name": "python3"
  },
  "language_info": {
   "codemirror_mode": {
    "name": "ipython",
    "version": 3
   },
   "file_extension": ".py",
   "mimetype": "text/x-python",
   "name": "python",
   "nbconvert_exporter": "python",
   "pygments_lexer": "ipython3",
   "version": "3.13.0"
  }
 },
 "nbformat": 4,
 "nbformat_minor": 2
}
